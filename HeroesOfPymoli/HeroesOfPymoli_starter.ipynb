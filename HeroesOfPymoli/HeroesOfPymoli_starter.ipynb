{
 "cells": [
  {
   "cell_type": "markdown",
   "metadata": {},
   "source": [
    "### Note\n",
    "* Instructions have been included for each segment. You do not have to follow them exactly, but they are included to help you think through the steps."
   ]
  },
  {
   "cell_type": "code",
   "execution_count": 16,
   "metadata": {},
   "outputs": [
    {
     "data": {
      "text/html": [
       "<div>\n",
       "<style scoped>\n",
       "    .dataframe tbody tr th:only-of-type {\n",
       "        vertical-align: middle;\n",
       "    }\n",
       "\n",
       "    .dataframe tbody tr th {\n",
       "        vertical-align: top;\n",
       "    }\n",
       "\n",
       "    .dataframe thead th {\n",
       "        text-align: right;\n",
       "    }\n",
       "</style>\n",
       "<table border=\"1\" class=\"dataframe\">\n",
       "  <thead>\n",
       "    <tr style=\"text-align: right;\">\n",
       "      <th></th>\n",
       "      <th>Purchase ID</th>\n",
       "      <th>SN</th>\n",
       "      <th>Age</th>\n",
       "      <th>Gender</th>\n",
       "      <th>Item ID</th>\n",
       "      <th>Item Name</th>\n",
       "      <th>Price</th>\n",
       "    </tr>\n",
       "  </thead>\n",
       "  <tbody>\n",
       "    <tr>\n",
       "      <th>0</th>\n",
       "      <td>0</td>\n",
       "      <td>Lisim78</td>\n",
       "      <td>20</td>\n",
       "      <td>Male</td>\n",
       "      <td>108</td>\n",
       "      <td>Extraction, Quickblade Of Trembling Hands</td>\n",
       "      <td>3.53</td>\n",
       "    </tr>\n",
       "    <tr>\n",
       "      <th>1</th>\n",
       "      <td>1</td>\n",
       "      <td>Lisovynya38</td>\n",
       "      <td>40</td>\n",
       "      <td>Male</td>\n",
       "      <td>143</td>\n",
       "      <td>Frenzied Scimitar</td>\n",
       "      <td>1.56</td>\n",
       "    </tr>\n",
       "    <tr>\n",
       "      <th>2</th>\n",
       "      <td>2</td>\n",
       "      <td>Ithergue48</td>\n",
       "      <td>24</td>\n",
       "      <td>Male</td>\n",
       "      <td>92</td>\n",
       "      <td>Final Critic</td>\n",
       "      <td>4.88</td>\n",
       "    </tr>\n",
       "    <tr>\n",
       "      <th>3</th>\n",
       "      <td>3</td>\n",
       "      <td>Chamassasya86</td>\n",
       "      <td>24</td>\n",
       "      <td>Male</td>\n",
       "      <td>100</td>\n",
       "      <td>Blindscythe</td>\n",
       "      <td>3.27</td>\n",
       "    </tr>\n",
       "    <tr>\n",
       "      <th>4</th>\n",
       "      <td>4</td>\n",
       "      <td>Iskosia90</td>\n",
       "      <td>23</td>\n",
       "      <td>Male</td>\n",
       "      <td>131</td>\n",
       "      <td>Fury</td>\n",
       "      <td>1.44</td>\n",
       "    </tr>\n",
       "    <tr>\n",
       "      <th>...</th>\n",
       "      <td>...</td>\n",
       "      <td>...</td>\n",
       "      <td>...</td>\n",
       "      <td>...</td>\n",
       "      <td>...</td>\n",
       "      <td>...</td>\n",
       "      <td>...</td>\n",
       "    </tr>\n",
       "    <tr>\n",
       "      <th>775</th>\n",
       "      <td>775</td>\n",
       "      <td>Aethedru70</td>\n",
       "      <td>21</td>\n",
       "      <td>Female</td>\n",
       "      <td>60</td>\n",
       "      <td>Wolf</td>\n",
       "      <td>3.54</td>\n",
       "    </tr>\n",
       "    <tr>\n",
       "      <th>776</th>\n",
       "      <td>776</td>\n",
       "      <td>Iral74</td>\n",
       "      <td>21</td>\n",
       "      <td>Male</td>\n",
       "      <td>164</td>\n",
       "      <td>Exiled Doomblade</td>\n",
       "      <td>1.63</td>\n",
       "    </tr>\n",
       "    <tr>\n",
       "      <th>777</th>\n",
       "      <td>777</td>\n",
       "      <td>Yathecal72</td>\n",
       "      <td>20</td>\n",
       "      <td>Male</td>\n",
       "      <td>67</td>\n",
       "      <td>Celeste, Incarnation of the Corrupted</td>\n",
       "      <td>3.46</td>\n",
       "    </tr>\n",
       "    <tr>\n",
       "      <th>778</th>\n",
       "      <td>778</td>\n",
       "      <td>Sisur91</td>\n",
       "      <td>7</td>\n",
       "      <td>Male</td>\n",
       "      <td>92</td>\n",
       "      <td>Final Critic</td>\n",
       "      <td>4.19</td>\n",
       "    </tr>\n",
       "    <tr>\n",
       "      <th>779</th>\n",
       "      <td>779</td>\n",
       "      <td>Ennrian78</td>\n",
       "      <td>24</td>\n",
       "      <td>Male</td>\n",
       "      <td>50</td>\n",
       "      <td>Dawn</td>\n",
       "      <td>4.60</td>\n",
       "    </tr>\n",
       "  </tbody>\n",
       "</table>\n",
       "<p>780 rows × 7 columns</p>\n",
       "</div>"
      ],
      "text/plain": [
       "     Purchase ID             SN  Age  Gender  Item ID  \\\n",
       "0              0        Lisim78   20    Male      108   \n",
       "1              1    Lisovynya38   40    Male      143   \n",
       "2              2     Ithergue48   24    Male       92   \n",
       "3              3  Chamassasya86   24    Male      100   \n",
       "4              4      Iskosia90   23    Male      131   \n",
       "..           ...            ...  ...     ...      ...   \n",
       "775          775     Aethedru70   21  Female       60   \n",
       "776          776         Iral74   21    Male      164   \n",
       "777          777     Yathecal72   20    Male       67   \n",
       "778          778        Sisur91    7    Male       92   \n",
       "779          779      Ennrian78   24    Male       50   \n",
       "\n",
       "                                     Item Name  Price  \n",
       "0    Extraction, Quickblade Of Trembling Hands   3.53  \n",
       "1                            Frenzied Scimitar   1.56  \n",
       "2                                 Final Critic   4.88  \n",
       "3                                  Blindscythe   3.27  \n",
       "4                                         Fury   1.44  \n",
       "..                                         ...    ...  \n",
       "775                                       Wolf   3.54  \n",
       "776                           Exiled Doomblade   1.63  \n",
       "777      Celeste, Incarnation of the Corrupted   3.46  \n",
       "778                               Final Critic   4.19  \n",
       "779                                       Dawn   4.60  \n",
       "\n",
       "[780 rows x 7 columns]"
      ]
     },
     "execution_count": 16,
     "metadata": {},
     "output_type": "execute_result"
    }
   ],
   "source": [
    "# Dependencies and Setup\n",
    "import pandas as pd\n",
    "import numpy as np\n",
    "\n",
    "# File to Load (Remember to Change These)\n",
    "file_to_load = \"Resources/purchase_data.csv\"\n",
    "\n",
    "# Read Purchasing File and store into Pandas data frame\n",
    "purchase_data_df = pd.read_csv(file_to_load)\n",
    "\n",
    "purchase_data_df"
   ]
  },
  {
   "cell_type": "markdown",
   "metadata": {},
   "source": [
    "## Player Count"
   ]
  },
  {
   "cell_type": "markdown",
   "metadata": {},
   "source": [
    "* Display the total number of players\n"
   ]
  },
  {
   "cell_type": "code",
   "execution_count": 17,
   "metadata": {},
   "outputs": [
    {
     "data": {
      "text/html": [
       "<div>\n",
       "<style scoped>\n",
       "    .dataframe tbody tr th:only-of-type {\n",
       "        vertical-align: middle;\n",
       "    }\n",
       "\n",
       "    .dataframe tbody tr th {\n",
       "        vertical-align: top;\n",
       "    }\n",
       "\n",
       "    .dataframe thead th {\n",
       "        text-align: right;\n",
       "    }\n",
       "</style>\n",
       "<table border=\"1\" class=\"dataframe\">\n",
       "  <thead>\n",
       "    <tr style=\"text-align: right;\">\n",
       "      <th></th>\n",
       "      <th>Total Players</th>\n",
       "    </tr>\n",
       "  </thead>\n",
       "  <tbody>\n",
       "    <tr>\n",
       "      <th>0</th>\n",
       "      <td>576</td>\n",
       "    </tr>\n",
       "  </tbody>\n",
       "</table>\n",
       "</div>"
      ],
      "text/plain": [
       "   Total Players\n",
       "0            576"
      ]
     },
     "execution_count": 17,
     "metadata": {},
     "output_type": "execute_result"
    }
   ],
   "source": [
    "\n",
    "player_count = len(purchase_data_df[\"SN\"].unique())\n",
    "\n",
    "count_table = pd.DataFrame({\"Total Players\": [player_count]})\n",
    "\n",
    "count_table\n"
   ]
  },
  {
   "cell_type": "markdown",
   "metadata": {},
   "source": [
    "## Purchasing Analysis (Total)"
   ]
  },
  {
   "cell_type": "markdown",
   "metadata": {},
   "source": [
    "* Run basic calculations to obtain number of unique items, average price, etc.\n",
    "\n",
    "\n",
    "* Create a summary data frame to hold the results\n",
    "\n",
    "\n",
    "* Optional: give the displayed data cleaner formatting\n",
    "\n",
    "\n",
    "* Display the summary data frame\n"
   ]
  },
  {
   "cell_type": "code",
   "execution_count": 18,
   "metadata": {
    "scrolled": true
   },
   "outputs": [
    {
     "data": {
      "text/html": [
       "<style  type=\"text/css\" >\n",
       "</style><table id=\"T_2a55fcbf_f20f_11ea_9a4b_a4c494970391\" ><thead>    <tr>        <th class=\"blank level0\" ></th>        <th class=\"col_heading level0 col0\" >Number of Unique Items</th>        <th class=\"col_heading level0 col1\" >Average Price</th>        <th class=\"col_heading level0 col2\" >Number of Purchases</th>        <th class=\"col_heading level0 col3\" >Total Revenue</th>    </tr></thead><tbody>\n",
       "                <tr>\n",
       "                        <th id=\"T_2a55fcbf_f20f_11ea_9a4b_a4c494970391level0_row0\" class=\"row_heading level0 row0\" >0</th>\n",
       "                        <td id=\"T_2a55fcbf_f20f_11ea_9a4b_a4c494970391row0_col0\" class=\"data row0 col0\" >179</td>\n",
       "                        <td id=\"T_2a55fcbf_f20f_11ea_9a4b_a4c494970391row0_col1\" class=\"data row0 col1\" >$3.05</td>\n",
       "                        <td id=\"T_2a55fcbf_f20f_11ea_9a4b_a4c494970391row0_col2\" class=\"data row0 col2\" >780</td>\n",
       "                        <td id=\"T_2a55fcbf_f20f_11ea_9a4b_a4c494970391row0_col3\" class=\"data row0 col3\" >$2,379.77</td>\n",
       "            </tr>\n",
       "    </tbody></table>"
      ],
      "text/plain": [
       "<pandas.io.formats.style.Styler at 0x2cb3af68a30>"
      ]
     },
     "execution_count": 18,
     "metadata": {},
     "output_type": "execute_result"
    }
   ],
   "source": [
    "\n",
    "unique_items = len((purchase_data_df[\"Item ID\"]).unique())\n",
    "average_price = (purchase_data_df[\"Price\"]).mean()\n",
    "purchases= len(purchase_data_df[\"Purchase ID\"])\n",
    "total= (purchase_data_df[\"Price\"]).sum()\n",
    "\n",
    "\n",
    "\n",
    "\n",
    "Table= pd.DataFrame({\"Number of Unique Items\": [unique_items],\n",
    "                    \"Average Price\": [average_price],\n",
    "                    \"Number of Purchases\":[purchases],\n",
    "                    \"Total Revenue\":[total]})\n",
    "\n",
    "\n",
    "Table.style.format({'Total Revenue':'${0:,.2f}','Average Price':'${0:,.2f}'})"
   ]
  },
  {
   "cell_type": "markdown",
   "metadata": {},
   "source": [
    "## Gender Demographics"
   ]
  },
  {
   "cell_type": "markdown",
   "metadata": {},
   "source": [
    "* Percentage and Count of Male Players\n",
    "\n",
    "\n",
    "* Percentage and Count of Female Players\n",
    "\n",
    "\n",
    "* Percentage and Count of Other / Non-Disclosed\n",
    "\n",
    "\n"
   ]
  },
  {
   "cell_type": "code",
   "execution_count": 19,
   "metadata": {},
   "outputs": [
    {
     "data": {
      "text/html": [
       "<style  type=\"text/css\" >\n",
       "</style><table id=\"T_2af3283f_f20f_11ea_aad9_a4c494970391\" ><thead>    <tr>        <th class=\"blank level0\" ></th>        <th class=\"col_heading level0 col0\" >Percentage of Players</th>        <th class=\"col_heading level0 col1\" >Total Count</th>    </tr>    <tr>        <th class=\"index_name level0\" >Gender</th>        <th class=\"blank\" ></th>        <th class=\"blank\" ></th>    </tr></thead><tbody>\n",
       "                <tr>\n",
       "                        <th id=\"T_2af3283f_f20f_11ea_aad9_a4c494970391level0_row0\" class=\"row_heading level0 row0\" >Male</th>\n",
       "                        <td id=\"T_2af3283f_f20f_11ea_aad9_a4c494970391row0_col0\" class=\"data row0 col0\" >%84.0</td>\n",
       "                        <td id=\"T_2af3283f_f20f_11ea_aad9_a4c494970391row0_col1\" class=\"data row0 col1\" >484</td>\n",
       "            </tr>\n",
       "            <tr>\n",
       "                        <th id=\"T_2af3283f_f20f_11ea_aad9_a4c494970391level0_row1\" class=\"row_heading level0 row1\" >Female</th>\n",
       "                        <td id=\"T_2af3283f_f20f_11ea_aad9_a4c494970391row1_col0\" class=\"data row1 col0\" >%14.1</td>\n",
       "                        <td id=\"T_2af3283f_f20f_11ea_aad9_a4c494970391row1_col1\" class=\"data row1 col1\" >81</td>\n",
       "            </tr>\n",
       "            <tr>\n",
       "                        <th id=\"T_2af3283f_f20f_11ea_aad9_a4c494970391level0_row2\" class=\"row_heading level0 row2\" >Other / Non-Disclosed</th>\n",
       "                        <td id=\"T_2af3283f_f20f_11ea_aad9_a4c494970391row2_col0\" class=\"data row2 col0\" >%1.9</td>\n",
       "                        <td id=\"T_2af3283f_f20f_11ea_aad9_a4c494970391row2_col1\" class=\"data row2 col1\" >11</td>\n",
       "            </tr>\n",
       "    </tbody></table>"
      ],
      "text/plain": [
       "<pandas.io.formats.style.Styler at 0x2cb3e0d3c40>"
      ]
     },
     "execution_count": 19,
     "metadata": {},
     "output_type": "execute_result"
    }
   ],
   "source": [
    "gender = purchase_data_df.groupby(\"Gender\")\n",
    "\n",
    "gender_count= gender.nunique()[\"SN\"]\n",
    "\n",
    "Precent= gender_count/player_count * 100\n",
    "\n",
    "gender_info= pd.DataFrame({\"Percentage of Players\": Precent ,\n",
    "                           \"Total Count\": gender_count})\n",
    "\n",
    "gender_info.sort_values([\"Total Count\"], ascending = False).style.format({\"Percentage of Players\":\"%{:.1f}\"})\n"
   ]
  },
  {
   "cell_type": "markdown",
   "metadata": {},
   "source": [
    "\n",
    "## Purchasing Analysis (Gender)"
   ]
  },
  {
   "cell_type": "markdown",
   "metadata": {},
   "source": [
    "\n",
    "\n",
    "* Run basic calculations to obtain purchase count, avg. purchase price, avg. purchase total per person etc. by gender\n",
    "\n",
    "\n",
    "\n",
    "\n",
    "* Create a summary data frame to hold the results\n",
    "\n",
    "\n",
    "* Optional: give the displayed data cleaner formatting\n",
    "\n",
    "\n",
    "* Display the summary data frame\n",
    "\n"
   ]
  },
  {
   "cell_type": "code",
   "execution_count": 20,
   "metadata": {},
   "outputs": [
    {
     "data": {
      "text/html": [
       "<style  type=\"text/css\" >\n",
       "</style><table id=\"T_2bd7db43_f20f_11ea_83a2_a4c494970391\" ><thead>    <tr>        <th class=\"blank level0\" ></th>        <th class=\"col_heading level0 col0\" >Purchase Count</th>        <th class=\"col_heading level0 col1\" >Average Purchase Price</th>        <th class=\"col_heading level0 col2\" >Average Purchase Value</th>        <th class=\"col_heading level0 col3\" >Avg Purchase Total per Person</th>    </tr>    <tr>        <th class=\"index_name level0\" >Gender</th>        <th class=\"blank\" ></th>        <th class=\"blank\" ></th>        <th class=\"blank\" ></th>        <th class=\"blank\" ></th>    </tr></thead><tbody>\n",
       "                <tr>\n",
       "                        <th id=\"T_2bd7db43_f20f_11ea_83a2_a4c494970391level0_row0\" class=\"row_heading level0 row0\" >Female</th>\n",
       "                        <td id=\"T_2bd7db43_f20f_11ea_83a2_a4c494970391row0_col0\" class=\"data row0 col0\" >113</td>\n",
       "                        <td id=\"T_2bd7db43_f20f_11ea_83a2_a4c494970391row0_col1\" class=\"data row0 col1\" >$3.20</td>\n",
       "                        <td id=\"T_2bd7db43_f20f_11ea_83a2_a4c494970391row0_col2\" class=\"data row0 col2\" >$361.94</td>\n",
       "                        <td id=\"T_2bd7db43_f20f_11ea_83a2_a4c494970391row0_col3\" class=\"data row0 col3\" >$4.47</td>\n",
       "            </tr>\n",
       "            <tr>\n",
       "                        <th id=\"T_2bd7db43_f20f_11ea_83a2_a4c494970391level0_row1\" class=\"row_heading level0 row1\" >Male</th>\n",
       "                        <td id=\"T_2bd7db43_f20f_11ea_83a2_a4c494970391row1_col0\" class=\"data row1 col0\" >652</td>\n",
       "                        <td id=\"T_2bd7db43_f20f_11ea_83a2_a4c494970391row1_col1\" class=\"data row1 col1\" >$3.02</td>\n",
       "                        <td id=\"T_2bd7db43_f20f_11ea_83a2_a4c494970391row1_col2\" class=\"data row1 col2\" >$1,967.64</td>\n",
       "                        <td id=\"T_2bd7db43_f20f_11ea_83a2_a4c494970391row1_col3\" class=\"data row1 col3\" >$4.07</td>\n",
       "            </tr>\n",
       "            <tr>\n",
       "                        <th id=\"T_2bd7db43_f20f_11ea_83a2_a4c494970391level0_row2\" class=\"row_heading level0 row2\" >Other / Non-Disclosed</th>\n",
       "                        <td id=\"T_2bd7db43_f20f_11ea_83a2_a4c494970391row2_col0\" class=\"data row2 col0\" >15</td>\n",
       "                        <td id=\"T_2bd7db43_f20f_11ea_83a2_a4c494970391row2_col1\" class=\"data row2 col1\" >$3.35</td>\n",
       "                        <td id=\"T_2bd7db43_f20f_11ea_83a2_a4c494970391row2_col2\" class=\"data row2 col2\" >$50.19</td>\n",
       "                        <td id=\"T_2bd7db43_f20f_11ea_83a2_a4c494970391row2_col3\" class=\"data row2 col3\" >$4.56</td>\n",
       "            </tr>\n",
       "    </tbody></table>"
      ],
      "text/plain": [
       "<pandas.io.formats.style.Styler at 0x2cb3e0d3190>"
      ]
     },
     "execution_count": 20,
     "metadata": {},
     "output_type": "execute_result"
    }
   ],
   "source": [
    "purchase_count= gender[\"Purchase ID\"].count()\n",
    "    \n",
    "average_price= gender[\"Price\"].mean()\n",
    "\n",
    "purchase_total = gender[\"Price\"].sum()\n",
    "\n",
    "Ave_per_person= purchase_total/ gender_count\n",
    "\n",
    "Gender_info=pd.DataFrame({\"Purchase Count\": purchase_count,\n",
    "                         \"Average Purchase Price\": average_price,\n",
    "                        \"Average Purchase Value\": purchase_total,\n",
    "                         \"Avg Purchase Total per Person\":Ave_per_person})\n",
    "\n",
    "Gender_info.style.format({\"Average Purchase Value\":\"${:,.2f}\",\n",
    "                                  \"Average Purchase Price\":\"${:,.2f}\",\n",
    "                                  \"Avg Purchase Total per Person\":\"${:,.2f}\"})\n",
    "\n",
    "\n"
   ]
  },
  {
   "cell_type": "markdown",
   "metadata": {},
   "source": [
    "## Age Demographics"
   ]
  },
  {
   "cell_type": "markdown",
   "metadata": {},
   "source": [
    "* Establish bins for ages\n",
    "\n",
    "\n",
    "* Categorize the existing players using the age bins. Hint: use pd.cut()\n",
    "\n",
    "\n",
    "* Calculate the numbers and percentages by age group\n",
    "\n",
    "\n",
    "* Create a summary data frame to hold the results\n",
    "\n",
    "\n",
    "* Optional: round the percentage column to two decimal points\n",
    "\n",
    "\n",
    "* Display Age Demographics Table\n"
   ]
  },
  {
   "cell_type": "code",
   "execution_count": 21,
   "metadata": {},
   "outputs": [
    {
     "data": {
      "text/html": [
       "<style  type=\"text/css\" >\n",
       "</style><table id=\"T_2ca1c41c_f20f_11ea_bdd4_a4c494970391\" ><thead>    <tr>        <th class=\"blank level0\" ></th>        <th class=\"col_heading level0 col0\" >Percentage of Players</th>        <th class=\"col_heading level0 col1\" >Total Count</th>    </tr>    <tr>        <th class=\"index_name level0\" >Age Group</th>        <th class=\"blank\" ></th>        <th class=\"blank\" ></th>    </tr></thead><tbody>\n",
       "                <tr>\n",
       "                        <th id=\"T_2ca1c41c_f20f_11ea_bdd4_a4c494970391level0_row0\" class=\"row_heading level0 row0\" ><10</th>\n",
       "                        <td id=\"T_2ca1c41c_f20f_11ea_bdd4_a4c494970391row0_col0\" class=\"data row0 col0\" >2.95</td>\n",
       "                        <td id=\"T_2ca1c41c_f20f_11ea_bdd4_a4c494970391row0_col1\" class=\"data row0 col1\" >17</td>\n",
       "            </tr>\n",
       "            <tr>\n",
       "                        <th id=\"T_2ca1c41c_f20f_11ea_bdd4_a4c494970391level0_row1\" class=\"row_heading level0 row1\" >10-14</th>\n",
       "                        <td id=\"T_2ca1c41c_f20f_11ea_bdd4_a4c494970391row1_col0\" class=\"data row1 col0\" >3.82</td>\n",
       "                        <td id=\"T_2ca1c41c_f20f_11ea_bdd4_a4c494970391row1_col1\" class=\"data row1 col1\" >22</td>\n",
       "            </tr>\n",
       "            <tr>\n",
       "                        <th id=\"T_2ca1c41c_f20f_11ea_bdd4_a4c494970391level0_row2\" class=\"row_heading level0 row2\" >15-19</th>\n",
       "                        <td id=\"T_2ca1c41c_f20f_11ea_bdd4_a4c494970391row2_col0\" class=\"data row2 col0\" >18.58</td>\n",
       "                        <td id=\"T_2ca1c41c_f20f_11ea_bdd4_a4c494970391row2_col1\" class=\"data row2 col1\" >107</td>\n",
       "            </tr>\n",
       "            <tr>\n",
       "                        <th id=\"T_2ca1c41c_f20f_11ea_bdd4_a4c494970391level0_row3\" class=\"row_heading level0 row3\" >20-24</th>\n",
       "                        <td id=\"T_2ca1c41c_f20f_11ea_bdd4_a4c494970391row3_col0\" class=\"data row3 col0\" >44.79</td>\n",
       "                        <td id=\"T_2ca1c41c_f20f_11ea_bdd4_a4c494970391row3_col1\" class=\"data row3 col1\" >258</td>\n",
       "            </tr>\n",
       "            <tr>\n",
       "                        <th id=\"T_2ca1c41c_f20f_11ea_bdd4_a4c494970391level0_row4\" class=\"row_heading level0 row4\" >25-29</th>\n",
       "                        <td id=\"T_2ca1c41c_f20f_11ea_bdd4_a4c494970391row4_col0\" class=\"data row4 col0\" >13.37</td>\n",
       "                        <td id=\"T_2ca1c41c_f20f_11ea_bdd4_a4c494970391row4_col1\" class=\"data row4 col1\" >77</td>\n",
       "            </tr>\n",
       "            <tr>\n",
       "                        <th id=\"T_2ca1c41c_f20f_11ea_bdd4_a4c494970391level0_row5\" class=\"row_heading level0 row5\" >30-34</th>\n",
       "                        <td id=\"T_2ca1c41c_f20f_11ea_bdd4_a4c494970391row5_col0\" class=\"data row5 col0\" >9.03</td>\n",
       "                        <td id=\"T_2ca1c41c_f20f_11ea_bdd4_a4c494970391row5_col1\" class=\"data row5 col1\" >52</td>\n",
       "            </tr>\n",
       "            <tr>\n",
       "                        <th id=\"T_2ca1c41c_f20f_11ea_bdd4_a4c494970391level0_row6\" class=\"row_heading level0 row6\" >35-39</th>\n",
       "                        <td id=\"T_2ca1c41c_f20f_11ea_bdd4_a4c494970391row6_col0\" class=\"data row6 col0\" >5.38</td>\n",
       "                        <td id=\"T_2ca1c41c_f20f_11ea_bdd4_a4c494970391row6_col1\" class=\"data row6 col1\" >31</td>\n",
       "            </tr>\n",
       "            <tr>\n",
       "                        <th id=\"T_2ca1c41c_f20f_11ea_bdd4_a4c494970391level0_row7\" class=\"row_heading level0 row7\" >40+</th>\n",
       "                        <td id=\"T_2ca1c41c_f20f_11ea_bdd4_a4c494970391row7_col0\" class=\"data row7 col0\" >2.08</td>\n",
       "                        <td id=\"T_2ca1c41c_f20f_11ea_bdd4_a4c494970391row7_col1\" class=\"data row7 col1\" >12</td>\n",
       "            </tr>\n",
       "    </tbody></table>"
      ],
      "text/plain": [
       "<pandas.io.formats.style.Styler at 0x2cb3af74310>"
      ]
     },
     "execution_count": 21,
     "metadata": {},
     "output_type": "execute_result"
    }
   ],
   "source": [
    "ages = [0, 9.90, 14.90, 19.90, 24.90, 29.90, 34.90, 39.90, 99999]\n",
    "\n",
    "age_groups = [\"<10\", \"10-14\", \"15-19\", \"20-24\", \"25-29\", \"30-34\", \"35-39\", \"40+\"]\n",
    "\n",
    "purchase_data_df[\"Age Group\"] = pd.cut(purchase_data_df[\"Age\"],ages, labels=age_groups)\n",
    "purchase_data_df\n",
    "\n",
    "ages_group= purchase_data_df.groupby(\"Age Group\")\n",
    "\n",
    "age_count= ages_group[\"SN\"].nunique()\n",
    "\n",
    " \n",
    "procent_player= (age_count / player_count) * 100\n",
    "\n",
    "age_info= pd.DataFrame({\"Percentage of Players\": procent_player,\n",
    "                       \"Total Count\": age_count })\n",
    "\n",
    "age_info.style.format({\"Percentage of Players\":\"{:,.2f}\"})\n",
    "\n"
   ]
  },
  {
   "cell_type": "markdown",
   "metadata": {},
   "source": [
    "## Purchasing Analysis (Age)"
   ]
  },
  {
   "cell_type": "markdown",
   "metadata": {},
   "source": [
    "* Bin the purchase_data data frame by age\n",
    "\n",
    "\n",
    "* Run basic calculations to obtain purchase count, avg. purchase price, avg. purchase total per person etc. in the table below\n",
    "\n",
    "\n",
    "* Create a summary data frame to hold the results\n",
    "\n",
    "\n",
    "* Optional: give the displayed data cleaner formatting\n",
    "\n",
    "\n",
    "* Display the summary data frame"
   ]
  },
  {
   "cell_type": "code",
   "execution_count": 25,
   "metadata": {},
   "outputs": [
    {
     "data": {
      "text/html": [
       "<style  type=\"text/css\" >\n",
       "</style><table id=\"T_56642bd9_f20f_11ea_8389_a4c494970391\" ><thead>    <tr>        <th class=\"blank level0\" ></th>        <th class=\"col_heading level0 col0\" >Purchase Count</th>        <th class=\"col_heading level0 col1\" >Average Purchase Price</th>        <th class=\"col_heading level0 col2\" >Total Purchase Value</th>        <th class=\"col_heading level0 col3\" >Average Purchase Total per Person by Age Group</th>    </tr>    <tr>        <th class=\"index_name level0\" >Age Group</th>        <th class=\"blank\" ></th>        <th class=\"blank\" ></th>        <th class=\"blank\" ></th>        <th class=\"blank\" ></th>    </tr></thead><tbody>\n",
       "                <tr>\n",
       "                        <th id=\"T_56642bd9_f20f_11ea_8389_a4c494970391level0_row0\" class=\"row_heading level0 row0\" ><10</th>\n",
       "                        <td id=\"T_56642bd9_f20f_11ea_8389_a4c494970391row0_col0\" class=\"data row0 col0\" >23</td>\n",
       "                        <td id=\"T_56642bd9_f20f_11ea_8389_a4c494970391row0_col1\" class=\"data row0 col1\" >$3.35</td>\n",
       "                        <td id=\"T_56642bd9_f20f_11ea_8389_a4c494970391row0_col2\" class=\"data row0 col2\" >$77.13</td>\n",
       "                        <td id=\"T_56642bd9_f20f_11ea_8389_a4c494970391row0_col3\" class=\"data row0 col3\" >$4.54</td>\n",
       "            </tr>\n",
       "            <tr>\n",
       "                        <th id=\"T_56642bd9_f20f_11ea_8389_a4c494970391level0_row1\" class=\"row_heading level0 row1\" >10-14</th>\n",
       "                        <td id=\"T_56642bd9_f20f_11ea_8389_a4c494970391row1_col0\" class=\"data row1 col0\" >28</td>\n",
       "                        <td id=\"T_56642bd9_f20f_11ea_8389_a4c494970391row1_col1\" class=\"data row1 col1\" >$2.96</td>\n",
       "                        <td id=\"T_56642bd9_f20f_11ea_8389_a4c494970391row1_col2\" class=\"data row1 col2\" >$82.78</td>\n",
       "                        <td id=\"T_56642bd9_f20f_11ea_8389_a4c494970391row1_col3\" class=\"data row1 col3\" >$3.76</td>\n",
       "            </tr>\n",
       "            <tr>\n",
       "                        <th id=\"T_56642bd9_f20f_11ea_8389_a4c494970391level0_row2\" class=\"row_heading level0 row2\" >15-19</th>\n",
       "                        <td id=\"T_56642bd9_f20f_11ea_8389_a4c494970391row2_col0\" class=\"data row2 col0\" >136</td>\n",
       "                        <td id=\"T_56642bd9_f20f_11ea_8389_a4c494970391row2_col1\" class=\"data row2 col1\" >$3.04</td>\n",
       "                        <td id=\"T_56642bd9_f20f_11ea_8389_a4c494970391row2_col2\" class=\"data row2 col2\" >$412.89</td>\n",
       "                        <td id=\"T_56642bd9_f20f_11ea_8389_a4c494970391row2_col3\" class=\"data row2 col3\" >$3.86</td>\n",
       "            </tr>\n",
       "            <tr>\n",
       "                        <th id=\"T_56642bd9_f20f_11ea_8389_a4c494970391level0_row3\" class=\"row_heading level0 row3\" >20-24</th>\n",
       "                        <td id=\"T_56642bd9_f20f_11ea_8389_a4c494970391row3_col0\" class=\"data row3 col0\" >365</td>\n",
       "                        <td id=\"T_56642bd9_f20f_11ea_8389_a4c494970391row3_col1\" class=\"data row3 col1\" >$3.05</td>\n",
       "                        <td id=\"T_56642bd9_f20f_11ea_8389_a4c494970391row3_col2\" class=\"data row3 col2\" >$1,114.06</td>\n",
       "                        <td id=\"T_56642bd9_f20f_11ea_8389_a4c494970391row3_col3\" class=\"data row3 col3\" >$4.32</td>\n",
       "            </tr>\n",
       "            <tr>\n",
       "                        <th id=\"T_56642bd9_f20f_11ea_8389_a4c494970391level0_row4\" class=\"row_heading level0 row4\" >25-29</th>\n",
       "                        <td id=\"T_56642bd9_f20f_11ea_8389_a4c494970391row4_col0\" class=\"data row4 col0\" >101</td>\n",
       "                        <td id=\"T_56642bd9_f20f_11ea_8389_a4c494970391row4_col1\" class=\"data row4 col1\" >$2.90</td>\n",
       "                        <td id=\"T_56642bd9_f20f_11ea_8389_a4c494970391row4_col2\" class=\"data row4 col2\" >$293.00</td>\n",
       "                        <td id=\"T_56642bd9_f20f_11ea_8389_a4c494970391row4_col3\" class=\"data row4 col3\" >$3.81</td>\n",
       "            </tr>\n",
       "            <tr>\n",
       "                        <th id=\"T_56642bd9_f20f_11ea_8389_a4c494970391level0_row5\" class=\"row_heading level0 row5\" >30-34</th>\n",
       "                        <td id=\"T_56642bd9_f20f_11ea_8389_a4c494970391row5_col0\" class=\"data row5 col0\" >73</td>\n",
       "                        <td id=\"T_56642bd9_f20f_11ea_8389_a4c494970391row5_col1\" class=\"data row5 col1\" >$2.93</td>\n",
       "                        <td id=\"T_56642bd9_f20f_11ea_8389_a4c494970391row5_col2\" class=\"data row5 col2\" >$214.00</td>\n",
       "                        <td id=\"T_56642bd9_f20f_11ea_8389_a4c494970391row5_col3\" class=\"data row5 col3\" >$4.12</td>\n",
       "            </tr>\n",
       "            <tr>\n",
       "                        <th id=\"T_56642bd9_f20f_11ea_8389_a4c494970391level0_row6\" class=\"row_heading level0 row6\" >35-39</th>\n",
       "                        <td id=\"T_56642bd9_f20f_11ea_8389_a4c494970391row6_col0\" class=\"data row6 col0\" >41</td>\n",
       "                        <td id=\"T_56642bd9_f20f_11ea_8389_a4c494970391row6_col1\" class=\"data row6 col1\" >$3.60</td>\n",
       "                        <td id=\"T_56642bd9_f20f_11ea_8389_a4c494970391row6_col2\" class=\"data row6 col2\" >$147.67</td>\n",
       "                        <td id=\"T_56642bd9_f20f_11ea_8389_a4c494970391row6_col3\" class=\"data row6 col3\" >$4.76</td>\n",
       "            </tr>\n",
       "            <tr>\n",
       "                        <th id=\"T_56642bd9_f20f_11ea_8389_a4c494970391level0_row7\" class=\"row_heading level0 row7\" >40+</th>\n",
       "                        <td id=\"T_56642bd9_f20f_11ea_8389_a4c494970391row7_col0\" class=\"data row7 col0\" >13</td>\n",
       "                        <td id=\"T_56642bd9_f20f_11ea_8389_a4c494970391row7_col1\" class=\"data row7 col1\" >$2.94</td>\n",
       "                        <td id=\"T_56642bd9_f20f_11ea_8389_a4c494970391row7_col2\" class=\"data row7 col2\" >$38.24</td>\n",
       "                        <td id=\"T_56642bd9_f20f_11ea_8389_a4c494970391row7_col3\" class=\"data row7 col3\" >$3.19</td>\n",
       "            </tr>\n",
       "    </tbody></table>"
      ],
      "text/plain": [
       "<pandas.io.formats.style.Styler at 0x2cb3e1d1130>"
      ]
     },
     "execution_count": 25,
     "metadata": {},
     "output_type": "execute_result"
    }
   ],
   "source": [
    "perchase_count=ages_group[\"Purchase ID\"].count()\n",
    "\n",
    "purchase_price=ages_group[\"Price\"].mean()\n",
    "\n",
    "purchase_value=ages_group[\"Price\"].sum()\n",
    "\n",
    "avg_purchase_age= purchase_value/age_count\n",
    "\n",
    "\n",
    "age_analysis= pd.DataFrame({\"Purchase Count\": perchase_count,\n",
    "                           \"Average Purchase Price\": purchase_price,\n",
    "                          \"Total Purchase Value\": purchase_value,\n",
    "                          \"Average Purchase Total per Person by Age Group\":avg_purchase_age})\n",
    "\n",
    "age_analysis.style.format({\"Average Purchase Price\":\"${:,.2f}\",\n",
    "                          \"Total Purchase Value\":\"${:,.2f}\",\n",
    "                          \"Average Purchase Total per Person by Age Group\":\"${:,.2f}\"})"
   ]
  },
  {
   "cell_type": "markdown",
   "metadata": {},
   "source": [
    "## Top Spenders"
   ]
  },
  {
   "cell_type": "markdown",
   "metadata": {},
   "source": [
    "* Run basic calculations to obtain the results in the table below\n",
    "\n",
    "\n",
    "* Create a summary data frame to hold the results\n",
    "\n",
    "\n",
    "* Sort the total purchase value column in descending order\n",
    "\n",
    "\n",
    "* Optional: give the displayed data cleaner formatting\n",
    "\n",
    "\n",
    "* Display a preview of the summary data frame\n",
    "\n"
   ]
  },
  {
   "cell_type": "code",
   "execution_count": 28,
   "metadata": {},
   "outputs": [
    {
     "data": {
      "text/html": [
       "<style  type=\"text/css\" >\n",
       "</style><table id=\"T_24d421e0_f212_11ea_bc5b_a4c494970391\" ><thead>    <tr>        <th class=\"blank level0\" ></th>        <th class=\"col_heading level0 col0\" >Purchase Count</th>        <th class=\"col_heading level0 col1\" >Average Purchase Price</th>        <th class=\"col_heading level0 col2\" >Total Purchase Value</th>    </tr>    <tr>        <th class=\"index_name level0\" >SN</th>        <th class=\"blank\" ></th>        <th class=\"blank\" ></th>        <th class=\"blank\" ></th>    </tr></thead><tbody>\n",
       "                <tr>\n",
       "                        <th id=\"T_24d421e0_f212_11ea_bc5b_a4c494970391level0_row0\" class=\"row_heading level0 row0\" >Lisosia93</th>\n",
       "                        <td id=\"T_24d421e0_f212_11ea_bc5b_a4c494970391row0_col0\" class=\"data row0 col0\" >5</td>\n",
       "                        <td id=\"T_24d421e0_f212_11ea_bc5b_a4c494970391row0_col1\" class=\"data row0 col1\" >$3.79</td>\n",
       "                        <td id=\"T_24d421e0_f212_11ea_bc5b_a4c494970391row0_col2\" class=\"data row0 col2\" >$18.96</td>\n",
       "            </tr>\n",
       "            <tr>\n",
       "                        <th id=\"T_24d421e0_f212_11ea_bc5b_a4c494970391level0_row1\" class=\"row_heading level0 row1\" >Idastidru52</th>\n",
       "                        <td id=\"T_24d421e0_f212_11ea_bc5b_a4c494970391row1_col0\" class=\"data row1 col0\" >4</td>\n",
       "                        <td id=\"T_24d421e0_f212_11ea_bc5b_a4c494970391row1_col1\" class=\"data row1 col1\" >$3.86</td>\n",
       "                        <td id=\"T_24d421e0_f212_11ea_bc5b_a4c494970391row1_col2\" class=\"data row1 col2\" >$15.45</td>\n",
       "            </tr>\n",
       "            <tr>\n",
       "                        <th id=\"T_24d421e0_f212_11ea_bc5b_a4c494970391level0_row2\" class=\"row_heading level0 row2\" >Chamjask73</th>\n",
       "                        <td id=\"T_24d421e0_f212_11ea_bc5b_a4c494970391row2_col0\" class=\"data row2 col0\" >3</td>\n",
       "                        <td id=\"T_24d421e0_f212_11ea_bc5b_a4c494970391row2_col1\" class=\"data row2 col1\" >$4.61</td>\n",
       "                        <td id=\"T_24d421e0_f212_11ea_bc5b_a4c494970391row2_col2\" class=\"data row2 col2\" >$13.83</td>\n",
       "            </tr>\n",
       "            <tr>\n",
       "                        <th id=\"T_24d421e0_f212_11ea_bc5b_a4c494970391level0_row3\" class=\"row_heading level0 row3\" >Iral74</th>\n",
       "                        <td id=\"T_24d421e0_f212_11ea_bc5b_a4c494970391row3_col0\" class=\"data row3 col0\" >4</td>\n",
       "                        <td id=\"T_24d421e0_f212_11ea_bc5b_a4c494970391row3_col1\" class=\"data row3 col1\" >$3.40</td>\n",
       "                        <td id=\"T_24d421e0_f212_11ea_bc5b_a4c494970391row3_col2\" class=\"data row3 col2\" >$13.62</td>\n",
       "            </tr>\n",
       "            <tr>\n",
       "                        <th id=\"T_24d421e0_f212_11ea_bc5b_a4c494970391level0_row4\" class=\"row_heading level0 row4\" >Iskadarya95</th>\n",
       "                        <td id=\"T_24d421e0_f212_11ea_bc5b_a4c494970391row4_col0\" class=\"data row4 col0\" >3</td>\n",
       "                        <td id=\"T_24d421e0_f212_11ea_bc5b_a4c494970391row4_col1\" class=\"data row4 col1\" >$4.37</td>\n",
       "                        <td id=\"T_24d421e0_f212_11ea_bc5b_a4c494970391row4_col2\" class=\"data row4 col2\" >$13.10</td>\n",
       "            </tr>\n",
       "    </tbody></table>"
      ],
      "text/plain": [
       "<pandas.io.formats.style.Styler at 0x2cb3efecbe0>"
      ]
     },
     "execution_count": 28,
     "metadata": {},
     "output_type": "execute_result"
    }
   ],
   "source": [
    "spender= purchase_data_df.groupby(\"SN\")\n",
    "\n",
    "spender_count= spender[\"Purchase ID\"].count()\n",
    "\n",
    "spender_ave= spender[\"Price\"].mean()\n",
    "\n",
    "spender_total=spender[\"Price\"].sum()\n",
    "\n",
    "top_spenders=pd.DataFrame({\"Purchase Count\":spender_count,\n",
    "                           \"Average Purchase Price\": spender_ave,\n",
    "                           \"Total Purchase Value\" : spender_total})\n",
    "\n",
    "\n",
    "Format= top_spenders.sort_values([\"Total Purchase Value\"], ascending=False).head()\n",
    "\n",
    "Format.style.format({\"Average Purchase Total\":\"${:,.2f}\",\n",
    "                                 \"Average Purchase Price\":\"${:,.2f}\", \n",
    "                                 \"Total Purchase Value\":\"${:,.2f}\"})"
   ]
  },
  {
   "cell_type": "markdown",
   "metadata": {},
   "source": [
    "## Most Popular Items"
   ]
  },
  {
   "cell_type": "markdown",
   "metadata": {},
   "source": [
    "* Retrieve the Item ID, Item Name, and Item Price columns\n",
    "\n",
    "\n",
    "* Group by Item ID and Item Name. Perform calculations to obtain purchase count, item price, and total purchase value\n",
    "\n",
    "\n",
    "* Create a summary data frame to hold the results\n",
    "\n",
    "\n",
    "* Sort the purchase count column in descending order\n",
    "\n",
    "\n",
    "* Optional: give the displayed data cleaner formatting\n",
    "\n",
    "\n",
    "* Display a preview of the summary data frame\n",
    "\n"
   ]
  },
  {
   "cell_type": "code",
   "execution_count": 30,
   "metadata": {},
   "outputs": [
    {
     "data": {
      "text/html": [
       "<style  type=\"text/css\" >\n",
       "</style><table id=\"T_570af167_f214_11ea_875b_a4c494970391\" ><thead>    <tr>        <th class=\"blank\" ></th>        <th class=\"blank level0\" ></th>        <th class=\"col_heading level0 col0\" >Purchase Count</th>        <th class=\"col_heading level0 col1\" >Item Price</th>        <th class=\"col_heading level0 col2\" >Total Purchase Value</th>    </tr>    <tr>        <th class=\"index_name level0\" >Item ID</th>        <th class=\"index_name level1\" >Item Name</th>        <th class=\"blank\" ></th>        <th class=\"blank\" ></th>        <th class=\"blank\" ></th>    </tr></thead><tbody>\n",
       "                <tr>\n",
       "                        <th id=\"T_570af167_f214_11ea_875b_a4c494970391level0_row0\" class=\"row_heading level0 row0\" >92</th>\n",
       "                        <th id=\"T_570af167_f214_11ea_875b_a4c494970391level1_row0\" class=\"row_heading level1 row0\" >Final Critic</th>\n",
       "                        <td id=\"T_570af167_f214_11ea_875b_a4c494970391row0_col0\" class=\"data row0 col0\" >13</td>\n",
       "                        <td id=\"T_570af167_f214_11ea_875b_a4c494970391row0_col1\" class=\"data row0 col1\" >$4.61</td>\n",
       "                        <td id=\"T_570af167_f214_11ea_875b_a4c494970391row0_col2\" class=\"data row0 col2\" >$59.99</td>\n",
       "            </tr>\n",
       "            <tr>\n",
       "                        <th id=\"T_570af167_f214_11ea_875b_a4c494970391level0_row1\" class=\"row_heading level0 row1\" >178</th>\n",
       "                        <th id=\"T_570af167_f214_11ea_875b_a4c494970391level1_row1\" class=\"row_heading level1 row1\" >Oathbreaker, Last Hope of the Breaking Storm</th>\n",
       "                        <td id=\"T_570af167_f214_11ea_875b_a4c494970391row1_col0\" class=\"data row1 col0\" >12</td>\n",
       "                        <td id=\"T_570af167_f214_11ea_875b_a4c494970391row1_col1\" class=\"data row1 col1\" >$4.23</td>\n",
       "                        <td id=\"T_570af167_f214_11ea_875b_a4c494970391row1_col2\" class=\"data row1 col2\" >$50.76</td>\n",
       "            </tr>\n",
       "            <tr>\n",
       "                        <th id=\"T_570af167_f214_11ea_875b_a4c494970391level0_row2\" class=\"row_heading level0 row2\" >145</th>\n",
       "                        <th id=\"T_570af167_f214_11ea_875b_a4c494970391level1_row2\" class=\"row_heading level1 row2\" >Fiery Glass Crusader</th>\n",
       "                        <td id=\"T_570af167_f214_11ea_875b_a4c494970391row2_col0\" class=\"data row2 col0\" >9</td>\n",
       "                        <td id=\"T_570af167_f214_11ea_875b_a4c494970391row2_col1\" class=\"data row2 col1\" >$4.58</td>\n",
       "                        <td id=\"T_570af167_f214_11ea_875b_a4c494970391row2_col2\" class=\"data row2 col2\" >$41.22</td>\n",
       "            </tr>\n",
       "            <tr>\n",
       "                        <th id=\"T_570af167_f214_11ea_875b_a4c494970391level0_row3\" class=\"row_heading level0 row3\" >132</th>\n",
       "                        <th id=\"T_570af167_f214_11ea_875b_a4c494970391level1_row3\" class=\"row_heading level1 row3\" >Persuasion</th>\n",
       "                        <td id=\"T_570af167_f214_11ea_875b_a4c494970391row3_col0\" class=\"data row3 col0\" >9</td>\n",
       "                        <td id=\"T_570af167_f214_11ea_875b_a4c494970391row3_col1\" class=\"data row3 col1\" >$3.22</td>\n",
       "                        <td id=\"T_570af167_f214_11ea_875b_a4c494970391row3_col2\" class=\"data row3 col2\" >$28.99</td>\n",
       "            </tr>\n",
       "            <tr>\n",
       "                        <th id=\"T_570af167_f214_11ea_875b_a4c494970391level0_row4\" class=\"row_heading level0 row4\" >108</th>\n",
       "                        <th id=\"T_570af167_f214_11ea_875b_a4c494970391level1_row4\" class=\"row_heading level1 row4\" >Extraction, Quickblade Of Trembling Hands</th>\n",
       "                        <td id=\"T_570af167_f214_11ea_875b_a4c494970391row4_col0\" class=\"data row4 col0\" >9</td>\n",
       "                        <td id=\"T_570af167_f214_11ea_875b_a4c494970391row4_col1\" class=\"data row4 col1\" >$3.53</td>\n",
       "                        <td id=\"T_570af167_f214_11ea_875b_a4c494970391row4_col2\" class=\"data row4 col2\" >$31.77</td>\n",
       "            </tr>\n",
       "    </tbody></table>"
      ],
      "text/plain": [
       "<pandas.io.formats.style.Styler at 0x2cb3f080b80>"
      ]
     },
     "execution_count": 30,
     "metadata": {},
     "output_type": "execute_result"
    }
   ],
   "source": [
    "items= purchase_data_df[[\"Item ID\", \"Item Name\", \"Price\"]]\n",
    "\n",
    "items_info= items.groupby([\"Item ID\", \"Item Name\"])\n",
    "\n",
    "item_count= items_info[\"Price\"].count()\n",
    "\n",
    "item_value= items_info[\"Price\"].sum()\n",
    "\n",
    "item_price= item_value/ item_count\n",
    "\n",
    "popilar_items= pd.DataFrame({\"Purchase Count\": item_count,\n",
    "                            \"Item Price\": item_price,\n",
    "                            \"Total Purchase Value\": item_value})\n",
    "\n",
    "pop_format=popilar_items.sort_values([\"Purchase Count\"], ascending=False).head()\n",
    "\n",
    "\n",
    "pop_format.style.format({\"Item Price\": \"${:,.2f}\",\n",
    "                        \"Total Purchase Value\": \"${:,.2f}\"})\n",
    "\n"
   ]
  },
  {
   "cell_type": "markdown",
   "metadata": {},
   "source": [
    "## Most Profitable Items"
   ]
  },
  {
   "cell_type": "markdown",
   "metadata": {},
   "source": [
    "* Sort the above table by total purchase value in descending order\n",
    "\n",
    "\n",
    "* Optional: give the displayed data cleaner formatting\n",
    "\n",
    "\n",
    "* Display a preview of the data frame\n",
    "\n"
   ]
  },
  {
   "cell_type": "code",
   "execution_count": 31,
   "metadata": {
    "scrolled": true
   },
   "outputs": [
    {
     "data": {
      "text/html": [
       "<style  type=\"text/css\" >\n",
       "</style><table id=\"T_e128f082_f214_11ea_b7c7_a4c494970391\" ><thead>    <tr>        <th class=\"blank\" ></th>        <th class=\"blank level0\" ></th>        <th class=\"col_heading level0 col0\" >Purchase Count</th>        <th class=\"col_heading level0 col1\" >Item Price</th>        <th class=\"col_heading level0 col2\" >Total Purchase Value</th>    </tr>    <tr>        <th class=\"index_name level0\" >Item ID</th>        <th class=\"index_name level1\" >Item Name</th>        <th class=\"blank\" ></th>        <th class=\"blank\" ></th>        <th class=\"blank\" ></th>    </tr></thead><tbody>\n",
       "                <tr>\n",
       "                        <th id=\"T_e128f082_f214_11ea_b7c7_a4c494970391level0_row0\" class=\"row_heading level0 row0\" >92</th>\n",
       "                        <th id=\"T_e128f082_f214_11ea_b7c7_a4c494970391level1_row0\" class=\"row_heading level1 row0\" >Final Critic</th>\n",
       "                        <td id=\"T_e128f082_f214_11ea_b7c7_a4c494970391row0_col0\" class=\"data row0 col0\" >13</td>\n",
       "                        <td id=\"T_e128f082_f214_11ea_b7c7_a4c494970391row0_col1\" class=\"data row0 col1\" >$4.61</td>\n",
       "                        <td id=\"T_e128f082_f214_11ea_b7c7_a4c494970391row0_col2\" class=\"data row0 col2\" >$59.99</td>\n",
       "            </tr>\n",
       "            <tr>\n",
       "                        <th id=\"T_e128f082_f214_11ea_b7c7_a4c494970391level0_row1\" class=\"row_heading level0 row1\" >178</th>\n",
       "                        <th id=\"T_e128f082_f214_11ea_b7c7_a4c494970391level1_row1\" class=\"row_heading level1 row1\" >Oathbreaker, Last Hope of the Breaking Storm</th>\n",
       "                        <td id=\"T_e128f082_f214_11ea_b7c7_a4c494970391row1_col0\" class=\"data row1 col0\" >12</td>\n",
       "                        <td id=\"T_e128f082_f214_11ea_b7c7_a4c494970391row1_col1\" class=\"data row1 col1\" >$4.23</td>\n",
       "                        <td id=\"T_e128f082_f214_11ea_b7c7_a4c494970391row1_col2\" class=\"data row1 col2\" >$50.76</td>\n",
       "            </tr>\n",
       "            <tr>\n",
       "                        <th id=\"T_e128f082_f214_11ea_b7c7_a4c494970391level0_row2\" class=\"row_heading level0 row2\" >82</th>\n",
       "                        <th id=\"T_e128f082_f214_11ea_b7c7_a4c494970391level1_row2\" class=\"row_heading level1 row2\" >Nirvana</th>\n",
       "                        <td id=\"T_e128f082_f214_11ea_b7c7_a4c494970391row2_col0\" class=\"data row2 col0\" >9</td>\n",
       "                        <td id=\"T_e128f082_f214_11ea_b7c7_a4c494970391row2_col1\" class=\"data row2 col1\" >$4.90</td>\n",
       "                        <td id=\"T_e128f082_f214_11ea_b7c7_a4c494970391row2_col2\" class=\"data row2 col2\" >$44.10</td>\n",
       "            </tr>\n",
       "            <tr>\n",
       "                        <th id=\"T_e128f082_f214_11ea_b7c7_a4c494970391level0_row3\" class=\"row_heading level0 row3\" >145</th>\n",
       "                        <th id=\"T_e128f082_f214_11ea_b7c7_a4c494970391level1_row3\" class=\"row_heading level1 row3\" >Fiery Glass Crusader</th>\n",
       "                        <td id=\"T_e128f082_f214_11ea_b7c7_a4c494970391row3_col0\" class=\"data row3 col0\" >9</td>\n",
       "                        <td id=\"T_e128f082_f214_11ea_b7c7_a4c494970391row3_col1\" class=\"data row3 col1\" >$4.58</td>\n",
       "                        <td id=\"T_e128f082_f214_11ea_b7c7_a4c494970391row3_col2\" class=\"data row3 col2\" >$41.22</td>\n",
       "            </tr>\n",
       "            <tr>\n",
       "                        <th id=\"T_e128f082_f214_11ea_b7c7_a4c494970391level0_row4\" class=\"row_heading level0 row4\" >103</th>\n",
       "                        <th id=\"T_e128f082_f214_11ea_b7c7_a4c494970391level1_row4\" class=\"row_heading level1 row4\" >Singed Scalpel</th>\n",
       "                        <td id=\"T_e128f082_f214_11ea_b7c7_a4c494970391row4_col0\" class=\"data row4 col0\" >8</td>\n",
       "                        <td id=\"T_e128f082_f214_11ea_b7c7_a4c494970391row4_col1\" class=\"data row4 col1\" >$4.35</td>\n",
       "                        <td id=\"T_e128f082_f214_11ea_b7c7_a4c494970391row4_col2\" class=\"data row4 col2\" >$34.80</td>\n",
       "            </tr>\n",
       "    </tbody></table>"
      ],
      "text/plain": [
       "<pandas.io.formats.style.Styler at 0x2cb3f083cd0>"
      ]
     },
     "execution_count": 31,
     "metadata": {},
     "output_type": "execute_result"
    }
   ],
   "source": [
    "pop_format=popilar_items.sort_values([\"Total Purchase Value\"], ascending=False).head()\n",
    "\n",
    "pop_format.style.format({\"Item Price\": \"${:,.2f}\",\n",
    "                        \"Total Purchase Value\": \"${:,.2f}\"})"
   ]
  },
  {
   "cell_type": "code",
   "execution_count": null,
   "metadata": {},
   "outputs": [],
   "source": []
  }
 ],
 "metadata": {
  "anaconda-cloud": {},
  "kernel_info": {
   "name": "python3"
  },
  "kernelspec": {
   "display_name": "Python 3",
   "language": "python",
   "name": "python3"
  },
  "language_info": {
   "codemirror_mode": {
    "name": "ipython",
    "version": 3
   },
   "file_extension": ".py",
   "mimetype": "text/x-python",
   "name": "python",
   "nbconvert_exporter": "python",
   "pygments_lexer": "ipython3",
   "version": "3.8.3"
  },
  "latex_envs": {
   "LaTeX_envs_menu_present": true,
   "autoclose": false,
   "autocomplete": true,
   "bibliofile": "biblio.bib",
   "cite_by": "apalike",
   "current_citInitial": 1,
   "eqLabelWithNumbers": true,
   "eqNumInitial": 1,
   "hotkeys": {
    "equation": "Ctrl-E",
    "itemize": "Ctrl-I"
   },
   "labels_anchors": false,
   "latex_user_defs": false,
   "report_style_numbering": false,
   "user_envs_cfg": false
  },
  "nteract": {
   "version": "0.2.0"
  }
 },
 "nbformat": 4,
 "nbformat_minor": 2
}
